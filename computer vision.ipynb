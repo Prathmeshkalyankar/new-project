{
 "cells": [
  {
   "cell_type": "code",
   "execution_count": 2,
   "id": "6c6e341f-7e20-4dbf-85c4-d2ee63d69509",
   "metadata": {},
   "outputs": [
    {
     "data": {
      "text/plain": [
       "-1"
      ]
     },
     "execution_count": 2,
     "metadata": {},
     "output_type": "execute_result"
    }
   ],
   "source": [
    "import cv2\n",
    "import numpy as np\n",
    "## read image\n",
    "image=cv2.imread(r\"D:\\PRATHMESH1\\Telegram Desktop\\photo_2024-01-11_15-24-19.jpg\")\n",
    "## print image array\n",
    "#print(image)\n",
    "\n",
    "## image dimension\n",
    "#print(image.shape)\n",
    "\n",
    "## resize image\n",
    "resize_image=cv2.resize(image,(700,700))\n",
    "#cv2.imshow(\"small size\",resize_image)\n",
    "#cv2.waitKey(0)\n",
    "\n",
    "## show image\n",
    "#cv2.imshow(\"origanal image\",image)\n",
    "#cv2.waitKey(0)\n",
    "\n",
    "## color change image\n",
    "#cv2.imshow(\"color change image \",image[:,:,2])\n",
    "#cv2.waitKey(0)\n",
    "\n",
    "## use by compare image color\n",
    "#cmpar=np.hstack([resize_image[:,:,0],resize_image[:,:,1],resize_image[:,:,2]])\n",
    "#cv2.imshow(\"compar image\",cmpar)\n",
    "#cv2.waitKey(0)\n",
    "\n",
    "## show by BGR color image ->red\n",
    "#resize_image[:,:,0]=0\n",
    "#resize_image[:,:,1]=0\n",
    "#cv2.imshow(\"red color \",resize_image)\n",
    "#cv2.waitKey(0)\n",
    "##blue\n",
    "#resize_image[:,:,1]=0\n",
    "#resize_image[:,:,2]=0\n",
    "#cv2.imshow(\"red color \",resize_image)\n",
    "#cv2.waitKey(0)\n",
    "\n",
    "## blur image try\n",
    "#bour_image=cv2.GaussianBlur(resize_image,(3,3),0)\n",
    "#cv2.imshow(\"bour image \",bour_image)\n",
    "#cv2.imshow(\"resize \",resize_image)\n",
    "#cv2.waitKey(0)\n",
    "\n",
    "\"\"\"cv2.line(resize_image,(200,100),(300,200),color=(100,100,100),thickness=3)\n",
    "cv2.line(resize_image,(200,100),(400,100),color=(100,100,100),thickness=3)\n",
    "cv2.line(resize_image,(400,100),(300,200),color=(100,100,100),thickness=3)\n",
    "cv2.rectangle(resize_image,(200,200), (400,400), color=(100,100,100),thickness=3)\n",
    "cv2.circle(resize_image,(300,300),radius=100, color=(100,100,100),thickness=3)\"\"\"\n",
    "\n",
    "mask= np.zeros_like(resize_image, dtype=np.uint8)\n",
    "\n",
    "height,width = mask.shape[:2]\n",
    "center =(width//2, height//2)\n",
    "radius = min(center)\n",
    "cv2.circle(mask,center,radius,(255,255,255), thickness=cv2.FILLED)\n",
    "\n",
    "# cv2 .rectangle(mask,(275,275),(575,550),\n",
    "#                color=(255,255,255), thickness=-1)\n",
    "new_image= cv2.bitwise_and(mask,resize_image)\n",
    "cv2.imshow('photo_2024-01-11_15-24-19',resize_image)\n",
    "cv2.waitKey(0)"
   ]
  },
  {
   "cell_type": "code",
   "execution_count": null,
   "id": "9f4a9d9a-87da-4659-b3de-5f615bd504aa",
   "metadata": {},
   "outputs": [],
   "source": []
  },
  {
   "cell_type": "code",
   "execution_count": null,
   "id": "52675971-bb60-44be-8fc0-781d04b8ce3e",
   "metadata": {},
   "outputs": [],
   "source": []
  },
  {
   "cell_type": "code",
   "execution_count": null,
   "id": "2bb0a263-a27e-4a62-b2d9-56e7e578dbd1",
   "metadata": {},
   "outputs": [],
   "source": []
  }
 ],
 "metadata": {
  "kernelspec": {
   "display_name": "Python 3 (ipykernel)",
   "language": "python",
   "name": "python3"
  },
  "language_info": {
   "codemirror_mode": {
    "name": "ipython",
    "version": 3
   },
   "file_extension": ".py",
   "mimetype": "text/x-python",
   "name": "python",
   "nbconvert_exporter": "python",
   "pygments_lexer": "ipython3",
   "version": "3.11.4"
  }
 },
 "nbformat": 4,
 "nbformat_minor": 5
}
